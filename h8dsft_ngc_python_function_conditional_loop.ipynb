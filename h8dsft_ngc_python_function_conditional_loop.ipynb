{
 "cells": [
  {
   "cell_type": "markdown",
   "metadata": {},
   "source": [
    "# Task #1 - Number of Word"
   ]
  },
  {
   "cell_type": "code",
   "execution_count": 18,
   "metadata": {},
   "outputs": [
    {
     "name": "stdout",
     "output_type": "stream",
     "text": [
      "2\n",
      "8\n"
     ]
    }
   ],
   "source": [
    "# Membuat function number_of_word dengan variable sentence\n",
    "def number_of_word(sentence):\n",
    "    \"\"\"Function ini bertugas untuk menghitung jumlah kata dalam kalimat\n",
    "    --------------------------------------------------\n",
    "    \n",
    "    sentence : Kalimat yang ingin dihitung katanya\n",
    "    \"\"\"\n",
    "    # Kode untuk memisahkan kata dari kalimat dengan .split() dan menghitung jumlah kata menggunakan function len\n",
    "    sentence = len(sentence.split())\n",
    "    return sentence\n",
    "\n",
    "# Melakukan penghitungan kata dari string \"Hello World!\" dan \"Once Upon a Time in a faraway land\"\n",
    "print(number_of_word(sentence = \"Hello World!\"))\n",
    "print(number_of_word(sentence = \"Once Upon a Time in a faraway land\"))\n",
    "\n",
    "    "
   ]
  },
  {
   "cell_type": "markdown",
   "metadata": {},
   "source": [
    "# Task #2 - Find Multiple"
   ]
  },
  {
   "cell_type": "code",
   "execution_count": 21,
   "metadata": {},
   "outputs": [
    {
     "name": "stdout",
     "output_type": "stream",
     "text": [
      "[5, 10, 15, 20]\n",
      "[10, 20, 30, 40, 50]\n"
     ]
    }
   ],
   "source": [
    "# Membuat function find_multiple dengan variable start_range, end_range dan multiple\n",
    "def find_multiple(start_range, end_range, multiple):\n",
    "    \"\"\"Function ini bertugas untuk menampilkan list angka yang merupakan bagian dari hasil perkalian dari variable 'multiple'\n",
    "    --------------------------------------------------\n",
    "    \n",
    "    start_range : angka awal\n",
    "    end_range : angka akhir\n",
    "    multiple : angka multiplikasi\n",
    "    \"\"\"\n",
    "    # Kode untuk memasukkan angka yang merupakan bagian dari hasil perkalian ke dalam satu list\n",
    "    \n",
    "    resul = []\n",
    "    while start_range <= end_range:\n",
    "        if start_range % multiple == 0:\n",
    "            resul.append(start_range)\n",
    "        start_range+=1\n",
    "    return resul\n",
    "\n",
    "# Melakukan pencarian angka dari 1-20 yang merupakan hasil multiplikasi 5 dan 1-50 yang merupakan hasil multiplikasi 10\n",
    "\n",
    "print(find_multiple(start_range= 1, end_range= 20, multiple= 5))\n",
    "print(find_multiple(start_range= 1, end_range= 50, multiple= 10))"
   ]
  },
  {
   "cell_type": "markdown",
   "metadata": {},
   "source": [
    "# Task #3 - Grade Converter"
   ]
  },
  {
   "cell_type": "code",
   "execution_count": 24,
   "metadata": {},
   "outputs": [
    {
     "name": "stdout",
     "output_type": "stream",
     "text": [
      "{'Adam': 2.5, 'Faiz': 4}\n",
      "{'Albert': 'A', 'Dwi': 'B', 'Syahdan': 'D', 'Veronica': 'B'}\n"
     ]
    }
   ],
   "source": [
    "# Membuat function Grade_Converter dengan variable convert_to dan kwargs\n",
    "def Grade_Converter(convert_to, **kwargs):\n",
    "    \"\"\"Function ini bertugas untuk mengonversi grade angka kedalam format letter grade atau GPA\n",
    "    --------------------------------------------------\n",
    "    \n",
    "    convert_to : mode konversi penilaian\n",
    "    kwargs : nama dan nilai\n",
    "    \"\"\"\n",
    "    # Kode untuk memasukkan angka yang merupakan bagian dari hasil perkalian ke dalam satu list\n",
    "\n",
    "    for key, value in kwargs.items():\n",
    "        if convert_to == 'letter_grade':\n",
    "            if 85 <= value:\n",
    "                kwargs[key] = 'A'\n",
    "            elif 70 <= value:\n",
    "                kwargs[key] = 'B'\n",
    "            elif 60 <= value:\n",
    "                kwargs[key] = 'C'\n",
    "            elif 50 <= value:\n",
    "                kwargs[key] = 'D'\n",
    "            elif 40 <= value:\n",
    "                kwargs[key] = 'E'\n",
    "            else:\n",
    "                kwargs[key] = 'F'\n",
    "        elif convert_to == 'gpa':\n",
    "            if 85 <= value:\n",
    "                kwargs[key] = 4\n",
    "            elif 70 <= value:\n",
    "                kwargs[key] = 3\n",
    "            elif 60 <= value:\n",
    "                kwargs[key] = 2.5\n",
    "            elif 50 <= value:\n",
    "                kwargs[key] = 2\n",
    "            elif 40 <= value:\n",
    "                kwargs[key] = 1.5\n",
    "            else:\n",
    "                kwargs[key] = 1\n",
    "    return kwargs\n",
    "\n",
    "# Melakukan konversi nilai ke dalam format GPA dan letter grade\n",
    "\n",
    "print(Grade_Converter(convert_to='gpa', Adam=62,\n",
    "Faiz=91))\n",
    "print(Grade_Converter(convert_to='letter_grade',\n",
    "Albert=90, Dwi=82, Syahdan=58, Veronica=84))"
   ]
  },
  {
   "cell_type": "markdown",
   "metadata": {},
   "source": [
    "# Task #4 - Fibonacci Sequence"
   ]
  },
  {
   "cell_type": "code",
   "execution_count": 27,
   "metadata": {},
   "outputs": [
    {
     "name": "stdout",
     "output_type": "stream",
     "text": [
      "0\n",
      "3\n",
      "55\n"
     ]
    }
   ],
   "source": [
    "# Membuat function my_function dengan variable n sebagai variable\n",
    "def my_function(n):\n",
    "    \"\"\"Function ini bertugas untuk menunjukkan angka Fibonacci apa yang ada di indeks yand diberikan\n",
    "    --------------------------------------------------\n",
    "    \n",
    "    n : Indeks angka Fibonacci\n",
    "    \"\"\"\n",
    "    x=2\n",
    "    resul = [0,1]\n",
    "    while x<=n:\n",
    "        y=resul[x-1]+resul[x-2]\n",
    "        resul.append(y)\n",
    "        x+=1\n",
    "    return resul[n]\n",
    "\n",
    "# Menunjukkan angka Fibonacci dari index yang diminta\n",
    "print(my_function(n=0))\n",
    "print(my_function(n=4))\n",
    "print(my_function(n=10))"
   ]
  }
 ],
 "metadata": {
  "kernelspec": {
   "display_name": "base",
   "language": "python",
   "name": "python3"
  },
  "language_info": {
   "codemirror_mode": {
    "name": "ipython",
    "version": 3
   },
   "file_extension": ".py",
   "mimetype": "text/x-python",
   "name": "python",
   "nbconvert_exporter": "python",
   "pygments_lexer": "ipython3",
   "version": "3.9.19"
  }
 },
 "nbformat": 4,
 "nbformat_minor": 2
}
