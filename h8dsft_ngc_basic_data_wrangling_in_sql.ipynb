{
 "cells": [
  {
   "cell_type": "markdown",
   "metadata": {},
   "source": [
    "# Task\n",
    "\n",
    "- You are asked to create a customer and order table as follows \"Customers\" and \"Orders\". Determine the right data\n",
    "type to create the two tables. Here are the structures and data for both tables:"
   ]
  },
  {
   "cell_type": "markdown",
   "metadata": {},
   "source": [
    "```-- Membuat table Customers\n",
    "CREATE TABLE customers (\n",
    "    customer_id SERIAL PRIMARY KEY,\n",
    "    customer_name VARCHAR(25),\n",
    "    city VARCHAR(25)\n",
    ");\n",
    "\n",
    "-- Membuat table Orders\n",
    "CREATE TABLE orders (\n",
    "    order_id SERIAL PRIMARY KEY,\n",
    "    customer_id INTEGER REFERENCES customers(customer_id),\n",
    "    order_date DATE,\n",
    "    total_amount FLOAT      \n",
    ");\n",
    "\n",
    "-- Mengisi tabel Customers\n",
    "INSERT INTO customers (customer_name, city)\n",
    "VALUES\n",
    "    ('John Doe', 'New York'),\n",
    "    ('Jane Smith', 'Los Angeles'),\n",
    "    ('David Johnson', 'Chicago');\n",
    "\n",
    "-- Mengisi tabel orders\n",
    "INSERT INTO orders (customer_id, order_date, total_amount)\n",
    "VALUES\n",
    "    (1, '2022-01-10', 100.00),\n",
    "    (1, '2022-01-15', 150.00),\n",
    "    (2, '2022-03-20', 200.00),\n",
    "\t(3, '2022-04-25', 50.00);\n",
    "\n",
    "-- Melihat isi tabel costumers\n",
    "SELECT * FROM customers;\n",
    "\n",
    "-- Melihat isi tabel costumers\n",
    "SELECT * FROM orders;"
   ]
  },
  {
   "cell_type": "markdown",
   "metadata": {},
   "source": [
    "![Screenshot data customer](h8dsft_ngc_basic_data_wrangling_in_sql-pic1.png \"Screenshot data customer\")"
   ]
  },
  {
   "cell_type": "markdown",
   "metadata": {},
   "source": [
    "![Screenshot data order](h8dsft_ngc_basic_data_wrangling_in_sql-pic2.png \"Screenshot data order\")"
   ]
  },
  {
   "cell_type": "markdown",
   "metadata": {},
   "source": [
    "- Once you have successfully created both tables, create a query to retrieve the total number of orders made by each\n",
    "customer along with the customer name from the \"Customers\" and \"Orders\" tables."
   ]
  },
  {
   "cell_type": "markdown",
   "metadata": {},
   "source": [
    "```-- Melakukan pencarian berapa kali seorang customer mengorder\n",
    "SELECT customers.customer_name, count(orders.customer_id)\n",
    "FROM orders JOIN customers\n",
    "ON orders.customer_id = customers.customer_id\n",
    "GROUP BY customers.customer_name;"
   ]
  },
  {
   "cell_type": "markdown",
   "metadata": {},
   "source": [
    "![Screenshot data customer order](h8dsft_ngc_basic_data_wrangling_in_sql-pic3.png \"Screenshot data customer order\")"
   ]
  }
 ],
 "metadata": {
  "language_info": {
   "name": "python"
  }
 },
 "nbformat": 4,
 "nbformat_minor": 2
}
